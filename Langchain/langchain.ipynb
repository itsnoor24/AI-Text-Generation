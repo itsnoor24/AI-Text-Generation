{
 "cells": [
  {
   "cell_type": "code",
   "execution_count": 56,
   "id": "ee290a61",
   "metadata": {},
   "outputs": [
    {
     "data": {
      "text/plain": [
       "262144"
      ]
     },
     "execution_count": 56,
     "metadata": {},
     "output_type": "execute_result"
    }
   ],
   "source": [
    "from langchain.document_loaders.csv_loader import CSVLoader\n",
    "from langchain.indexes import VectorstoreIndexCreator\n",
    "from langchain.chains import RetrievalQA\n",
    "from langchain.llms import OpenAI\n",
    "import pandas as pd\n",
    "import os\n",
    "import sys\n",
    "import csv"
   ]
  },
  {
   "cell_type": "code",
   "execution_count": 57,
   "id": "96f95c98",
   "metadata": {},
   "outputs": [],
   "source": [
    "os.environ[\"OPENAI_API_KEY\"] = \"X"
   ]
  },
  {
   "cell_type": "code",
   "execution_count": 58,
   "id": "fa4f4436",
   "metadata": {},
   "outputs": [],
   "source": [
    "# load csv\n",
    "loader = CSVLoader(file_path='gm_actions_preprocessed.csv', encoding='utf8')\n",
    "data = loader.load()"
   ]
  },
  {
   "cell_type": "code",
   "execution_count": 59,
   "id": "40c5955b",
   "metadata": {
    "scrolled": true
   },
   "outputs": [
    {
     "name": "stderr",
     "output_type": "stream",
     "text": [
      "Using embedded DuckDB without persistence: data will be transient\n"
     ]
    }
   ],
   "source": [
    "# create an index for the loaded document\n",
    "index_creator = VectorstoreIndexCreator()\n",
    "docsearch = index_creator.from_loaders([loader])"
   ]
  },
  {
   "cell_type": "code",
   "execution_count": 60,
   "id": "fdc13c1a",
   "metadata": {},
   "outputs": [],
   "source": [
    "# Create a question/answering chain using the index\n",
    "chain = RetrievalQA.from_chain_type(llm=OpenAI(), chain_type=\"stuff\", retriever=docsearch.vectorstore.as_retriever(), input_key=\"question\")"
   ]
  },
  {
   "cell_type": "code",
   "execution_count": 73,
   "id": "2bb35807",
   "metadata": {},
   "outputs": [],
   "source": [
    "# Pass a query to the chain\n",
    "query = \"Based on the short descriptions provided, generate 5 new short descriptions for a github action that you think will be the most successful. Success is determined by a high number of stars\"\n",
    "response = chain({\"question\": query})"
   ]
  },
  {
   "cell_type": "code",
   "execution_count": 74,
   "id": "e40b0641",
   "metadata": {},
   "outputs": [
    {
     "name": "stdout",
     "output_type": "stream",
     "text": [
      " 1. A github action that checks for code consistency and automatically updates your files to adhere to the latest standards. \n",
      "2. A github action that automatically runs unit tests and provides feedback on any code discrepancies. \n",
      "3. A github action that reviews and refactors code for improved readability and performance. \n",
      "4. A github action that provides detailed coding style feedback and recommends best practices. \n",
      "5. A github action that provides automated code review and suggests improvements.\n"
     ]
    }
   ],
   "source": [
    "print(response['result'])"
   ]
  },
  {
   "cell_type": "code",
   "execution_count": null,
   "id": "f77325f5",
   "metadata": {},
   "outputs": [],
   "source": []
  }
 ],
 "metadata": {
  "kernelspec": {
   "display_name": "Python 3 (ipykernel)",
   "language": "python",
   "name": "python3"
  },
  "language_info": {
   "codemirror_mode": {
    "name": "ipython",
    "version": 3
   },
   "file_extension": ".py",
   "mimetype": "text/x-python",
   "name": "python",
   "nbconvert_exporter": "python",
   "pygments_lexer": "ipython3",
   "version": "3.11.2"
  }
 },
 "nbformat": 4,
 "nbformat_minor": 5
}
